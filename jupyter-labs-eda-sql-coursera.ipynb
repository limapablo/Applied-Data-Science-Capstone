{
    "cells": [
        {
            "metadata": {},
            "id": "22caaa44-c27e-4d29-b5ee-49dca4cc7cf3",
            "cell_type": "markdown",
            "source": "<p style=\"text-align:center\">\n    <a href=\"https://skills.network/?utm_medium=Exinfluencer&utm_source=Exinfluencer&utm_content=000026UJ&utm_term=10006555&utm_id=NA-SkillsNetwork-Channel-SkillsNetworkCoursesIBMDS0321ENSkillsNetwork865-2022-01-01\" target=\"_blank\">\n    <img src=\"https://cf-courses-data.s3.us.cloud-object-storage.appdomain.cloud/assets/logos/SN_web_lightmode.png\" width=\"200\" alt=\"Skills Network Logo\"  />\n    </a>\n</p>\n\n<h1 align=center><font size = 5>Assignment: SQL Notebook for Peer Assignment</font></h1>\n\nEstimated time needed: **60** minutes.\n\n## Introduction\nUsing this Python notebook you will:\n\n1.  Understand the Spacex DataSet\n2.  Load the dataset  into the corresponding table in a Db2 database\n3.  Execute SQL queries to answer assignment questions \n"
        },
        {
            "metadata": {},
            "id": "1ae8e773-a2d5-4721-b534-598518e7c7e7",
            "cell_type": "markdown",
            "source": "## Overview of the DataSet\n\nSpaceX has gained worldwide attention for a series of historic milestones. \n\nIt is the only private company ever to return a spacecraft from low-earth orbit, which it first accomplished in December 2010.\nSpaceX advertises Falcon 9 rocket launches on its website with a cost of 62 million dollars wheras other providers cost upward of 165 million dollars each, much of the savings is because Space X can reuse the first stage. \n\n\nTherefore if we can determine if the first stage will land, we can determine the cost of a launch. \n\nThis information can be used if an alternate company wants to bid against SpaceX for a rocket launch.\n\nThis dataset includes a record for each payload carried during a SpaceX mission into outer space.\n"
        },
        {
            "metadata": {},
            "id": "8a3770ec-da5d-4ee2-b913-12094cd3dfb0",
            "cell_type": "markdown",
            "source": "### Download the datasets\n\nThis assignment requires you to load the spacex dataset.\n\nIn many cases the dataset to be analyzed is available as a .CSV (comma separated values) file, perhaps on the internet. Click on the link below to download and save the dataset (.CSV file):\n\n <a href=\"https://cf-courses-data.s3.us.cloud-object-storage.appdomain.cloud/IBM-DS0321EN-SkillsNetwork/labs/module_2/data/Spacex.csv\" target=\"_blank\">Spacex DataSet</a>\n\n"
        },
        {
            "metadata": {},
            "id": "99833862-9852-410a-9211-b655a30013b0",
            "cell_type": "markdown",
            "source": "**Navigate to the Go to UI screen** \n\n* Refer to this insruction in this <a href=\"https://cf-courses-data.s3.us.cloud-object-storage.appdomain.cloud/IBMDeveloperSkillsNetwork-DB0201EN-SkillsNetwork/labs/Labs_Coursera_V5/labs/Lab%20-%20Sign%20up%20for%20IBM%20Cloud%20-%20Create%20Db2%20service%20instance%20-%20Get%20started%20with%20the%20Db2%20console/instructional-labs.md.html\">link</a> for viewing  the   Go to UI screen. \n\n\n* Later click on **Data link(below SQL)**  in the Go to UI screen  and click on **Load Data** tab.  \n\n\n\n* Later browse for the downloaded spacex file.\n\n\n\n<img src=\"https://cf-courses-data.s3.us.cloud-object-storage.appdomain.cloud/IBM-DS0321EN-SkillsNetwork/labs/module_2/images/browsefile.png\" width=\"800\">\n\n\n* Once done select the schema andload the file.  \n\n\n <img src=\"https://cf-courses-data.s3.us.cloud-object-storage.appdomain.cloud/IBM-DS0321EN-SkillsNetwork/labs/module_2/images/spacexload3.png\" width=\"800\">\n \n"
        },
        {
            "metadata": {},
            "id": "f76e14f8-fa6a-445f-b2cc-7a4cf400a353",
            "cell_type": "markdown",
            "source": "\nIf you are facing a problem in uploading the dataset (which is a csv file), you can follow the steps below to upload the .sql file instead of the CSV file:\n\n* Download the file <a href=\"https://cf-courses-data.s3.us.cloud-object-storage.appdomain.cloud/IBM-DS0321EN-SkillsNetwork/datasets/Spacex%20.sql\">Spacex.sql</a>\n\n* Later click on **SQL** in the  **Go to UI Screen**.\n\n* Use the **From file** option to browse for the **SQL** file and upload it.\n\n<img src=\"https://cf-courses-data.s3.us.cloud-object-storage.appdomain.cloud/IBM-DS0321EN-SkillsNetwork/labs/module_2/images/sqlfile.png\">\n\n* Once you upload the script,you can use the **Run All** option to run all the queries to insert the data.\n\n<img src=\"https://cf-courses-data.s3.us.cloud-object-storage.appdomain.cloud/IBM-DS0321EN-SkillsNetwork/labs/module_2/images/runall.png\">\n\n    \n"
        },
        {
            "metadata": {},
            "id": "80dbd24e-b3c4-456b-a0a0-e6b252d5172f",
            "cell_type": "code",
            "source": "!pip install sqlalchemy==2.0\n!pip install ibm_db_sa\n!pip install ipython-sql\n!pip install pandas",
            "execution_count": 1,
            "outputs": [
                {
                    "output_type": "stream",
                    "text": "Requirement already satisfied: sqlalchemy==2.0 in /opt/conda/envs/Python-3.10/lib/python3.10/site-packages (2.0.0)\nRequirement already satisfied: typing-extensions>=4.2.0 in /opt/conda/envs/Python-3.10/lib/python3.10/site-packages (from sqlalchemy==2.0) (4.3.0)\nRequirement already satisfied: greenlet!=0.4.17 in /opt/conda/envs/Python-3.10/lib/python3.10/site-packages (from sqlalchemy==2.0) (1.1.1)\nRequirement already satisfied: ibm_db_sa in /opt/conda/envs/Python-3.10/lib/python3.10/site-packages (0.3.8)\nRequirement already satisfied: ibm-db>=2.0.0 in /opt/conda/envs/Python-3.10/lib/python3.10/site-packages (from ibm_db_sa) (3.1.3)\nRequirement already satisfied: sqlalchemy>=0.7.3 in /opt/conda/envs/Python-3.10/lib/python3.10/site-packages (from ibm_db_sa) (2.0.0)\nRequirement already satisfied: greenlet!=0.4.17 in /opt/conda/envs/Python-3.10/lib/python3.10/site-packages (from sqlalchemy>=0.7.3->ibm_db_sa) (1.1.1)\nRequirement already satisfied: typing-extensions>=4.2.0 in /opt/conda/envs/Python-3.10/lib/python3.10/site-packages (from sqlalchemy>=0.7.3->ibm_db_sa) (4.3.0)\nRequirement already satisfied: ipython-sql in /opt/conda/envs/Python-3.10/lib/python3.10/site-packages (0.5.0)\nRequirement already satisfied: sqlalchemy>=2.0 in /opt/conda/envs/Python-3.10/lib/python3.10/site-packages (from ipython-sql) (2.0.0)\nRequirement already satisfied: ipython-genutils in /opt/conda/envs/Python-3.10/lib/python3.10/site-packages (from ipython-sql) (0.2.0)\nRequirement already satisfied: six in /opt/conda/envs/Python-3.10/lib/python3.10/site-packages (from ipython-sql) (1.16.0)\nRequirement already satisfied: sqlparse in /opt/conda/envs/Python-3.10/lib/python3.10/site-packages (from ipython-sql) (0.4.3)\nRequirement already satisfied: prettytable in /opt/conda/envs/Python-3.10/lib/python3.10/site-packages (from ipython-sql) (3.6.0)\nRequirement already satisfied: ipython in /opt/conda/envs/Python-3.10/lib/python3.10/site-packages (from ipython-sql) (8.4.0)\nRequirement already satisfied: greenlet!=0.4.17 in /opt/conda/envs/Python-3.10/lib/python3.10/site-packages (from sqlalchemy>=2.0->ipython-sql) (1.1.1)\nRequirement already satisfied: typing-extensions>=4.2.0 in /opt/conda/envs/Python-3.10/lib/python3.10/site-packages (from sqlalchemy>=2.0->ipython-sql) (4.3.0)\nRequirement already satisfied: pexpect>4.3 in /opt/conda/envs/Python-3.10/lib/python3.10/site-packages (from ipython->ipython-sql) (4.8.0)\nRequirement already satisfied: matplotlib-inline in /opt/conda/envs/Python-3.10/lib/python3.10/site-packages (from ipython->ipython-sql) (0.1.6)\nRequirement already satisfied: decorator in /opt/conda/envs/Python-3.10/lib/python3.10/site-packages (from ipython->ipython-sql) (5.1.1)\nRequirement already satisfied: setuptools>=18.5 in /opt/conda/envs/Python-3.10/lib/python3.10/site-packages (from ipython->ipython-sql) (65.6.3)\nRequirement already satisfied: pickleshare in /opt/conda/envs/Python-3.10/lib/python3.10/site-packages (from ipython->ipython-sql) (0.7.5)\nRequirement already satisfied: prompt-toolkit!=3.0.0,!=3.0.1,<3.1.0,>=2.0.0 in /opt/conda/envs/Python-3.10/lib/python3.10/site-packages (from ipython->ipython-sql) (3.0.20)\nRequirement already satisfied: traitlets>=5 in /opt/conda/envs/Python-3.10/lib/python3.10/site-packages (from ipython->ipython-sql) (5.1.1)\nRequirement already satisfied: jedi>=0.16 in /opt/conda/envs/Python-3.10/lib/python3.10/site-packages (from ipython->ipython-sql) (0.18.1)\nRequirement already satisfied: backcall in /opt/conda/envs/Python-3.10/lib/python3.10/site-packages (from ipython->ipython-sql) (0.2.0)\nRequirement already satisfied: stack-data in /opt/conda/envs/Python-3.10/lib/python3.10/site-packages (from ipython->ipython-sql) (0.2.0)\nRequirement already satisfied: pygments>=2.4.0 in /opt/conda/envs/Python-3.10/lib/python3.10/site-packages (from ipython->ipython-sql) (2.11.2)\nRequirement already satisfied: wcwidth in /opt/conda/envs/Python-3.10/lib/python3.10/site-packages (from prettytable->ipython-sql) (0.2.5)\nRequirement already satisfied: parso<0.9.0,>=0.8.0 in /opt/conda/envs/Python-3.10/lib/python3.10/site-packages (from jedi>=0.16->ipython->ipython-sql) (0.8.3)\nRequirement already satisfied: ptyprocess>=0.5 in /opt/conda/envs/Python-3.10/lib/python3.10/site-packages (from pexpect>4.3->ipython->ipython-sql) (0.7.0)\nRequirement already satisfied: asttokens in /opt/conda/envs/Python-3.10/lib/python3.10/site-packages (from stack-data->ipython->ipython-sql) (2.0.5)\nRequirement already satisfied: pure-eval in /opt/conda/envs/Python-3.10/lib/python3.10/site-packages (from stack-data->ipython->ipython-sql) (0.2.2)\nRequirement already satisfied: executing in /opt/conda/envs/Python-3.10/lib/python3.10/site-packages (from stack-data->ipython->ipython-sql) (0.8.3)\nRequirement already satisfied: pandas in /opt/conda/envs/Python-3.10/lib/python3.10/site-packages (1.4.3)\nRequirement already satisfied: python-dateutil>=2.8.1 in /opt/conda/envs/Python-3.10/lib/python3.10/site-packages (from pandas) (2.8.2)\nRequirement already satisfied: pytz>=2020.1 in /opt/conda/envs/Python-3.10/lib/python3.10/site-packages (from pandas) (2022.1)\nRequirement already satisfied: numpy>=1.21.0 in /opt/conda/envs/Python-3.10/lib/python3.10/site-packages (from pandas) (1.23.1)\nRequirement already satisfied: six>=1.5 in /opt/conda/envs/Python-3.10/lib/python3.10/site-packages (from python-dateutil>=2.8.1->pandas) (1.16.0)\n",
                    "name": "stdout"
                }
            ]
        },
        {
            "metadata": {},
            "id": "4d078618-5f50-48d9-9b65-20da01d2228c",
            "cell_type": "markdown",
            "source": "### Connect to the database\n\nLet us first load the SQL extension and establish a connection with the database\n"
        },
        {
            "metadata": {},
            "id": "dbecf5cd-c2d8-4b82-b84a-244c41e72af4",
            "cell_type": "code",
            "source": "%load_ext sql",
            "execution_count": 2,
            "outputs": []
        },
        {
            "metadata": {},
            "id": "b6599c7d-66c8-4569-ac9e-9f57523a8cc1",
            "cell_type": "markdown",
            "source": "\n\n\n**DB2 magic in case of  UI service credentials.**\n\n\n\n<img src=\"https://cf-courses-data.s3.us.cloud-object-storage.appdomain.cloud/IBM-DS0321EN-SkillsNetwork/labs/module_2/images/servicecredentials.png\" width=\"600\">  \n\n* Use the following format.\n\n* Add security=SSL at the end\n\n**%sql ibm_db_sa://my-username:my-password@my-hostname:my-port/my-db-name?security=SSL**\n"
        },
        {
            "metadata": {},
            "id": "b431bf93-ccdc-4c4b-8ae8-9b7528861f1f",
            "cell_type": "code",
            "source": "import csv, sqlite3\n\ncon = sqlite3.connect(\"my_data1.db\")\ncur = con.cursor()",
            "execution_count": 3,
            "outputs": []
        },
        {
            "metadata": {},
            "id": "e5a21bec-6e50-4320-aa90-4d46ccc235bf",
            "cell_type": "code",
            "source": "",
            "execution_count": null,
            "outputs": []
        },
        {
            "metadata": {},
            "id": "3a777815-54d0-492b-addb-78cdc1ee0dd7",
            "cell_type": "code",
            "source": "%sql sqlite:///my_data1.db",
            "execution_count": 4,
            "outputs": []
        },
        {
            "metadata": {},
            "cell_type": "code",
            "source": "import pandas as pd\ndf = pd.read_csv(\"https://cf-courses-data.s3.us.cloud-object-storage.appdomain.cloud/IBM-DS0321EN-SkillsNetwork/labs/module_2/data/Spacex.csv\")\ndf.to_sql(\"SPACEXTBL\", con, if_exists='replace', index=False, method=\"multi\")",
            "execution_count": 5,
            "outputs": [
                {
                    "output_type": "execute_result",
                    "execution_count": 5,
                    "data": {
                        "text/plain": "101"
                    },
                    "metadata": {}
                }
            ]
        },
        {
            "metadata": {},
            "id": "1e99228b-31e0-45ab-af44-5d0a98e2edd5",
            "cell_type": "markdown",
            "source": "## Tasks\n\nNow write and execute SQL queries to solve the assignment tasks.\n\n### Task 1\n\n\n\n\n##### Display the names of the unique launch sites  in the space mission\n"
        },
        {
            "metadata": {},
            "id": "36cb2cda-f45b-432a-9f96-333a7d577c75",
            "cell_type": "code",
            "source": "q = pd.read_sql('select distinct Launch_Site from spacextbl', con)\nq",
            "execution_count": 6,
            "outputs": [
                {
                    "output_type": "execute_result",
                    "execution_count": 6,
                    "data": {
                        "text/plain": "    Launch_Site\n0   CCAFS LC-40\n1   VAFB SLC-4E\n2    KSC LC-39A\n3  CCAFS SLC-40",
                        "text/html": "<div>\n<style scoped>\n    .dataframe tbody tr th:only-of-type {\n        vertical-align: middle;\n    }\n\n    .dataframe tbody tr th {\n        vertical-align: top;\n    }\n\n    .dataframe thead th {\n        text-align: right;\n    }\n</style>\n<table border=\"1\" class=\"dataframe\">\n  <thead>\n    <tr style=\"text-align: right;\">\n      <th></th>\n      <th>Launch_Site</th>\n    </tr>\n  </thead>\n  <tbody>\n    <tr>\n      <th>0</th>\n      <td>CCAFS LC-40</td>\n    </tr>\n    <tr>\n      <th>1</th>\n      <td>VAFB SLC-4E</td>\n    </tr>\n    <tr>\n      <th>2</th>\n      <td>KSC LC-39A</td>\n    </tr>\n    <tr>\n      <th>3</th>\n      <td>CCAFS SLC-40</td>\n    </tr>\n  </tbody>\n</table>\n</div>"
                    },
                    "metadata": {}
                }
            ]
        },
        {
            "metadata": {},
            "id": "0bade2d8-a5cf-4325-8419-8bcd03f4efd1",
            "cell_type": "markdown",
            "source": "\n### Task 2\n\n\n#####  Display 5 records where launch sites begin with the string 'CCA' \n"
        },
        {
            "metadata": {},
            "id": "5f4740b9-7e45-495a-8aec-108d52124302",
            "cell_type": "code",
            "source": "q = pd.read_sql(\"select * from spacextbl where Launch_Site like 'CCA%' limit 5\", con)\nq",
            "execution_count": 7,
            "outputs": [
                {
                    "output_type": "execute_result",
                    "execution_count": 7,
                    "data": {
                        "text/plain": "         Date Time (UTC) Booster_Version  Launch_Site  \\\n0  04-06-2010   18:45:00  F9 v1.0  B0003  CCAFS LC-40   \n1  08-12-2010   15:43:00  F9 v1.0  B0004  CCAFS LC-40   \n2  22-05-2012   07:44:00  F9 v1.0  B0005  CCAFS LC-40   \n3  08-10-2012   00:35:00  F9 v1.0  B0006  CCAFS LC-40   \n4  01-03-2013   15:10:00  F9 v1.0  B0007  CCAFS LC-40   \n\n                                             Payload  PAYLOAD_MASS__KG_  \\\n0               Dragon Spacecraft Qualification Unit                  0   \n1  Dragon demo flight C1, two CubeSats, barrel of...                  0   \n2                              Dragon demo flight C2                525   \n3                                       SpaceX CRS-1                500   \n4                                       SpaceX CRS-2                677   \n\n       Orbit         Customer Mission_Outcome     Landing _Outcome  \n0        LEO           SpaceX         Success  Failure (parachute)  \n1  LEO (ISS)  NASA (COTS) NRO         Success  Failure (parachute)  \n2  LEO (ISS)      NASA (COTS)         Success           No attempt  \n3  LEO (ISS)       NASA (CRS)         Success           No attempt  \n4  LEO (ISS)       NASA (CRS)         Success           No attempt  ",
                        "text/html": "<div>\n<style scoped>\n    .dataframe tbody tr th:only-of-type {\n        vertical-align: middle;\n    }\n\n    .dataframe tbody tr th {\n        vertical-align: top;\n    }\n\n    .dataframe thead th {\n        text-align: right;\n    }\n</style>\n<table border=\"1\" class=\"dataframe\">\n  <thead>\n    <tr style=\"text-align: right;\">\n      <th></th>\n      <th>Date</th>\n      <th>Time (UTC)</th>\n      <th>Booster_Version</th>\n      <th>Launch_Site</th>\n      <th>Payload</th>\n      <th>PAYLOAD_MASS__KG_</th>\n      <th>Orbit</th>\n      <th>Customer</th>\n      <th>Mission_Outcome</th>\n      <th>Landing _Outcome</th>\n    </tr>\n  </thead>\n  <tbody>\n    <tr>\n      <th>0</th>\n      <td>04-06-2010</td>\n      <td>18:45:00</td>\n      <td>F9 v1.0  B0003</td>\n      <td>CCAFS LC-40</td>\n      <td>Dragon Spacecraft Qualification Unit</td>\n      <td>0</td>\n      <td>LEO</td>\n      <td>SpaceX</td>\n      <td>Success</td>\n      <td>Failure (parachute)</td>\n    </tr>\n    <tr>\n      <th>1</th>\n      <td>08-12-2010</td>\n      <td>15:43:00</td>\n      <td>F9 v1.0  B0004</td>\n      <td>CCAFS LC-40</td>\n      <td>Dragon demo flight C1, two CubeSats, barrel of...</td>\n      <td>0</td>\n      <td>LEO (ISS)</td>\n      <td>NASA (COTS) NRO</td>\n      <td>Success</td>\n      <td>Failure (parachute)</td>\n    </tr>\n    <tr>\n      <th>2</th>\n      <td>22-05-2012</td>\n      <td>07:44:00</td>\n      <td>F9 v1.0  B0005</td>\n      <td>CCAFS LC-40</td>\n      <td>Dragon demo flight C2</td>\n      <td>525</td>\n      <td>LEO (ISS)</td>\n      <td>NASA (COTS)</td>\n      <td>Success</td>\n      <td>No attempt</td>\n    </tr>\n    <tr>\n      <th>3</th>\n      <td>08-10-2012</td>\n      <td>00:35:00</td>\n      <td>F9 v1.0  B0006</td>\n      <td>CCAFS LC-40</td>\n      <td>SpaceX CRS-1</td>\n      <td>500</td>\n      <td>LEO (ISS)</td>\n      <td>NASA (CRS)</td>\n      <td>Success</td>\n      <td>No attempt</td>\n    </tr>\n    <tr>\n      <th>4</th>\n      <td>01-03-2013</td>\n      <td>15:10:00</td>\n      <td>F9 v1.0  B0007</td>\n      <td>CCAFS LC-40</td>\n      <td>SpaceX CRS-2</td>\n      <td>677</td>\n      <td>LEO (ISS)</td>\n      <td>NASA (CRS)</td>\n      <td>Success</td>\n      <td>No attempt</td>\n    </tr>\n  </tbody>\n</table>\n</div>"
                    },
                    "metadata": {}
                }
            ]
        },
        {
            "metadata": {},
            "id": "5f3f3a95-f842-453f-9aec-770976af841d",
            "cell_type": "markdown",
            "source": "### Task 3\n\n\n\n\n##### Display the total payload mass carried by boosters launched by NASA (CRS)\n"
        },
        {
            "metadata": {},
            "id": "701d7054-5983-4dad-93a1-8738139c7980",
            "cell_type": "code",
            "source": "q = pd.read_sql(\"select sum(PAYLOAD_MASS__KG_) from spacextbl where Customer='NASA (CRS)'\", con)\nq",
            "execution_count": 8,
            "outputs": [
                {
                    "output_type": "execute_result",
                    "execution_count": 8,
                    "data": {
                        "text/plain": "   sum(PAYLOAD_MASS__KG_)\n0                   45596",
                        "text/html": "<div>\n<style scoped>\n    .dataframe tbody tr th:only-of-type {\n        vertical-align: middle;\n    }\n\n    .dataframe tbody tr th {\n        vertical-align: top;\n    }\n\n    .dataframe thead th {\n        text-align: right;\n    }\n</style>\n<table border=\"1\" class=\"dataframe\">\n  <thead>\n    <tr style=\"text-align: right;\">\n      <th></th>\n      <th>sum(PAYLOAD_MASS__KG_)</th>\n    </tr>\n  </thead>\n  <tbody>\n    <tr>\n      <th>0</th>\n      <td>45596</td>\n    </tr>\n  </tbody>\n</table>\n</div>"
                    },
                    "metadata": {}
                }
            ]
        },
        {
            "metadata": {},
            "id": "0e14f297-4165-4d28-b82b-c4e502bc7ef3",
            "cell_type": "markdown",
            "source": "### Task 4\n\n\n\n\n##### Display average payload mass carried by booster version F9 v1.1\n"
        },
        {
            "metadata": {},
            "id": "5c9846c3-e5dc-4e72-b507-aa2592a054fa",
            "cell_type": "code",
            "source": "\n\nq = pd.read_sql(\"select avg(PAYLOAD_MASS__KG_) from spacextbl where Booster_Version='F9 v1.1'\", con)\nq\n\n",
            "execution_count": 9,
            "outputs": [
                {
                    "output_type": "execute_result",
                    "execution_count": 9,
                    "data": {
                        "text/plain": "   avg(PAYLOAD_MASS__KG_)\n0                  2928.4",
                        "text/html": "<div>\n<style scoped>\n    .dataframe tbody tr th:only-of-type {\n        vertical-align: middle;\n    }\n\n    .dataframe tbody tr th {\n        vertical-align: top;\n    }\n\n    .dataframe thead th {\n        text-align: right;\n    }\n</style>\n<table border=\"1\" class=\"dataframe\">\n  <thead>\n    <tr style=\"text-align: right;\">\n      <th></th>\n      <th>avg(PAYLOAD_MASS__KG_)</th>\n    </tr>\n  </thead>\n  <tbody>\n    <tr>\n      <th>0</th>\n      <td>2928.4</td>\n    </tr>\n  </tbody>\n</table>\n</div>"
                    },
                    "metadata": {}
                }
            ]
        },
        {
            "metadata": {},
            "id": "a45072a9-7730-4b69-97ed-d0268811c564",
            "cell_type": "markdown",
            "source": "### Task 5\n\n##### List the date when the first successful landing outcome in ground pad was acheived.\n\n\n"
        },
        {
            "metadata": {},
            "id": "17e67b40-6d7d-4558-b5e9-662fe281a6b6",
            "cell_type": "code",
            "source": "\n\nq = pd.read_sql(\"SELECT Date FROM spacextbl WHERE `LANDING _OUTCOME` = 'Success (ground pad)'\", con)\nq\n\n\n\n",
            "execution_count": 10,
            "outputs": [
                {
                    "output_type": "execute_result",
                    "execution_count": 10,
                    "data": {
                        "text/plain": "         Date\n0  22-12-2015\n1  18-07-2016\n2  19-02-2017\n3  01-05-2017\n4  03-06-2017\n5  14-08-2017\n6  07-09-2017\n7  15-12-2017\n8  08-01-2018",
                        "text/html": "<div>\n<style scoped>\n    .dataframe tbody tr th:only-of-type {\n        vertical-align: middle;\n    }\n\n    .dataframe tbody tr th {\n        vertical-align: top;\n    }\n\n    .dataframe thead th {\n        text-align: right;\n    }\n</style>\n<table border=\"1\" class=\"dataframe\">\n  <thead>\n    <tr style=\"text-align: right;\">\n      <th></th>\n      <th>Date</th>\n    </tr>\n  </thead>\n  <tbody>\n    <tr>\n      <th>0</th>\n      <td>22-12-2015</td>\n    </tr>\n    <tr>\n      <th>1</th>\n      <td>18-07-2016</td>\n    </tr>\n    <tr>\n      <th>2</th>\n      <td>19-02-2017</td>\n    </tr>\n    <tr>\n      <th>3</th>\n      <td>01-05-2017</td>\n    </tr>\n    <tr>\n      <th>4</th>\n      <td>03-06-2017</td>\n    </tr>\n    <tr>\n      <th>5</th>\n      <td>14-08-2017</td>\n    </tr>\n    <tr>\n      <th>6</th>\n      <td>07-09-2017</td>\n    </tr>\n    <tr>\n      <th>7</th>\n      <td>15-12-2017</td>\n    </tr>\n    <tr>\n      <th>8</th>\n      <td>08-01-2018</td>\n    </tr>\n  </tbody>\n</table>\n</div>"
                    },
                    "metadata": {}
                }
            ]
        },
        {
            "metadata": {},
            "id": "f4a27811-c954-4f53-a1e3-8590c09b761e",
            "cell_type": "markdown",
            "source": "### Task 6\n\n##### List the names of the boosters which have success in drone ship and have payload mass greater than 4000 but less than 6000\n"
        },
        {
            "metadata": {},
            "id": "ffd9b828-f248-4857-98cb-0ba01dd3d4c3",
            "cell_type": "code",
            "source": "q = pd.read_sql(\"select distinct Booster_Version from spacextbl where `LANDING _OUTCOME`='Success (drone ship)' and `PAYLOAD_MASS__KG_` between 4000 and 6000\", con)\nq",
            "execution_count": 11,
            "outputs": [
                {
                    "output_type": "execute_result",
                    "execution_count": 11,
                    "data": {
                        "text/plain": "  Booster_Version\n0     F9 FT B1022\n1     F9 FT B1026\n2  F9 FT  B1021.2\n3  F9 FT  B1031.2",
                        "text/html": "<div>\n<style scoped>\n    .dataframe tbody tr th:only-of-type {\n        vertical-align: middle;\n    }\n\n    .dataframe tbody tr th {\n        vertical-align: top;\n    }\n\n    .dataframe thead th {\n        text-align: right;\n    }\n</style>\n<table border=\"1\" class=\"dataframe\">\n  <thead>\n    <tr style=\"text-align: right;\">\n      <th></th>\n      <th>Booster_Version</th>\n    </tr>\n  </thead>\n  <tbody>\n    <tr>\n      <th>0</th>\n      <td>F9 FT B1022</td>\n    </tr>\n    <tr>\n      <th>1</th>\n      <td>F9 FT B1026</td>\n    </tr>\n    <tr>\n      <th>2</th>\n      <td>F9 FT  B1021.2</td>\n    </tr>\n    <tr>\n      <th>3</th>\n      <td>F9 FT  B1031.2</td>\n    </tr>\n  </tbody>\n</table>\n</div>"
                    },
                    "metadata": {}
                }
            ]
        },
        {
            "metadata": {},
            "id": "64a3b1b5-efb7-4156-9918-28655779e419",
            "cell_type": "markdown",
            "source": "### Task 7\n\n\n\n\n##### List the total number of successful and failure mission outcomes\n"
        },
        {
            "metadata": {},
            "id": "6f541ead-8838-4db7-8f01-01577b69a76c",
            "cell_type": "code",
            "source": "q = pd.read_sql(\"select substr(Mission_Outcome,1,7) as Mission_Outcome, count(*) from spacextbl  group by 1\", con)\nq",
            "execution_count": 12,
            "outputs": [
                {
                    "output_type": "execute_result",
                    "execution_count": 12,
                    "data": {
                        "text/plain": "  Mission_Outcome  count(*)\n0         Failure         1\n1         Success       100",
                        "text/html": "<div>\n<style scoped>\n    .dataframe tbody tr th:only-of-type {\n        vertical-align: middle;\n    }\n\n    .dataframe tbody tr th {\n        vertical-align: top;\n    }\n\n    .dataframe thead th {\n        text-align: right;\n    }\n</style>\n<table border=\"1\" class=\"dataframe\">\n  <thead>\n    <tr style=\"text-align: right;\">\n      <th></th>\n      <th>Mission_Outcome</th>\n      <th>count(*)</th>\n    </tr>\n  </thead>\n  <tbody>\n    <tr>\n      <th>0</th>\n      <td>Failure</td>\n      <td>1</td>\n    </tr>\n    <tr>\n      <th>1</th>\n      <td>Success</td>\n      <td>100</td>\n    </tr>\n  </tbody>\n</table>\n</div>"
                    },
                    "metadata": {}
                }
            ]
        },
        {
            "metadata": {},
            "id": "3ae7619c-a8c7-409d-b85d-26ce81236e36",
            "cell_type": "markdown",
            "source": "### Task 8\n\n\n\n##### List the   names of the booster_versions which have carried the maximum payload mass. Use a subquery\n"
        },
        {
            "metadata": {},
            "id": "6d3ca7c3-923c-4609-804e-5a1450e19247",
            "cell_type": "code",
            "source": "q = pd.read_sql(\"select distinct Booster_Version from spacextbl where PAYLOAD_MASS__KG_ = (select max(PAYLOAD_MASS__KG_) from spacextbl)\", con)\nq",
            "execution_count": 13,
            "outputs": [
                {
                    "output_type": "execute_result",
                    "execution_count": 13,
                    "data": {
                        "text/plain": "   Booster_Version\n0    F9 B5 B1048.4\n1    F9 B5 B1049.4\n2    F9 B5 B1051.3\n3    F9 B5 B1056.4\n4    F9 B5 B1048.5\n5    F9 B5 B1051.4\n6    F9 B5 B1049.5\n7   F9 B5 B1060.2 \n8   F9 B5 B1058.3 \n9    F9 B5 B1051.6\n10   F9 B5 B1060.3\n11  F9 B5 B1049.7 ",
                        "text/html": "<div>\n<style scoped>\n    .dataframe tbody tr th:only-of-type {\n        vertical-align: middle;\n    }\n\n    .dataframe tbody tr th {\n        vertical-align: top;\n    }\n\n    .dataframe thead th {\n        text-align: right;\n    }\n</style>\n<table border=\"1\" class=\"dataframe\">\n  <thead>\n    <tr style=\"text-align: right;\">\n      <th></th>\n      <th>Booster_Version</th>\n    </tr>\n  </thead>\n  <tbody>\n    <tr>\n      <th>0</th>\n      <td>F9 B5 B1048.4</td>\n    </tr>\n    <tr>\n      <th>1</th>\n      <td>F9 B5 B1049.4</td>\n    </tr>\n    <tr>\n      <th>2</th>\n      <td>F9 B5 B1051.3</td>\n    </tr>\n    <tr>\n      <th>3</th>\n      <td>F9 B5 B1056.4</td>\n    </tr>\n    <tr>\n      <th>4</th>\n      <td>F9 B5 B1048.5</td>\n    </tr>\n    <tr>\n      <th>5</th>\n      <td>F9 B5 B1051.4</td>\n    </tr>\n    <tr>\n      <th>6</th>\n      <td>F9 B5 B1049.5</td>\n    </tr>\n    <tr>\n      <th>7</th>\n      <td>F9 B5 B1060.2</td>\n    </tr>\n    <tr>\n      <th>8</th>\n      <td>F9 B5 B1058.3</td>\n    </tr>\n    <tr>\n      <th>9</th>\n      <td>F9 B5 B1051.6</td>\n    </tr>\n    <tr>\n      <th>10</th>\n      <td>F9 B5 B1060.3</td>\n    </tr>\n    <tr>\n      <th>11</th>\n      <td>F9 B5 B1049.7</td>\n    </tr>\n  </tbody>\n</table>\n</div>"
                    },
                    "metadata": {}
                }
            ]
        },
        {
            "metadata": {},
            "id": "ed179e86-f977-4328-aad5-7be049fe8000",
            "cell_type": "markdown",
            "source": "### Task 9\n\n\n##### List the failed landing_outcomes in drone ship, their booster versions, and launch site names for in year 2015\n"
        },
        {
            "metadata": {},
            "id": "cedcbed9-4e5a-49fb-a18b-1c0d65696894",
            "cell_type": "code",
            "source": "q = pd.read_sql(\"select distinct `Landing _Outcome`, Booster_Version, Launch_Site from spacextbl where `Landing _Outcome`='Failure (drone ship)'\", con)\nq",
            "execution_count": 14,
            "outputs": [
                {
                    "output_type": "execute_result",
                    "execution_count": 14,
                    "data": {
                        "text/plain": "       Landing _Outcome Booster_Version  Launch_Site\n0  Failure (drone ship)   F9 v1.1 B1012  CCAFS LC-40\n1  Failure (drone ship)   F9 v1.1 B1015  CCAFS LC-40\n2  Failure (drone ship)   F9 v1.1 B1017  VAFB SLC-4E\n3  Failure (drone ship)     F9 FT B1020  CCAFS LC-40\n4  Failure (drone ship)     F9 FT B1024  CCAFS LC-40",
                        "text/html": "<div>\n<style scoped>\n    .dataframe tbody tr th:only-of-type {\n        vertical-align: middle;\n    }\n\n    .dataframe tbody tr th {\n        vertical-align: top;\n    }\n\n    .dataframe thead th {\n        text-align: right;\n    }\n</style>\n<table border=\"1\" class=\"dataframe\">\n  <thead>\n    <tr style=\"text-align: right;\">\n      <th></th>\n      <th>Landing _Outcome</th>\n      <th>Booster_Version</th>\n      <th>Launch_Site</th>\n    </tr>\n  </thead>\n  <tbody>\n    <tr>\n      <th>0</th>\n      <td>Failure (drone ship)</td>\n      <td>F9 v1.1 B1012</td>\n      <td>CCAFS LC-40</td>\n    </tr>\n    <tr>\n      <th>1</th>\n      <td>Failure (drone ship)</td>\n      <td>F9 v1.1 B1015</td>\n      <td>CCAFS LC-40</td>\n    </tr>\n    <tr>\n      <th>2</th>\n      <td>Failure (drone ship)</td>\n      <td>F9 v1.1 B1017</td>\n      <td>VAFB SLC-4E</td>\n    </tr>\n    <tr>\n      <th>3</th>\n      <td>Failure (drone ship)</td>\n      <td>F9 FT B1020</td>\n      <td>CCAFS LC-40</td>\n    </tr>\n    <tr>\n      <th>4</th>\n      <td>Failure (drone ship)</td>\n      <td>F9 FT B1024</td>\n      <td>CCAFS LC-40</td>\n    </tr>\n  </tbody>\n</table>\n</div>"
                    },
                    "metadata": {}
                }
            ]
        },
        {
            "metadata": {},
            "id": "5f78519d-8725-411f-b42e-9d420d1c8b22",
            "cell_type": "markdown",
            "source": "### Task 10\n\n##### Rank the count of landing outcomes (such as Failure (drone ship) or Success (ground pad)) between the date 2010-06-04 and 2017-03-20, in descending order\n"
        },
        {
            "metadata": {},
            "id": "12d7b73d-26de-48c5-befd-0f24b12e1b91",
            "cell_type": "code",
            "source": "q = pd.read_sql(\"select `Landing _Outcome`, count(*) from spacextbl where Date between '04-06-2010' and '20-03-2017' group by `Landing _Outcome` order by 2 desc\", con)\nq",
            "execution_count": 15,
            "outputs": [
                {
                    "output_type": "execute_result",
                    "execution_count": 15,
                    "data": {
                        "text/plain": "       Landing _Outcome  count(*)\n0               Success        20\n1            No attempt        10\n2  Success (drone ship)         8\n3  Success (ground pad)         6\n4  Failure (drone ship)         4\n5               Failure         3\n6    Controlled (ocean)         3\n7   Failure (parachute)         2\n8           No attempt          1",
                        "text/html": "<div>\n<style scoped>\n    .dataframe tbody tr th:only-of-type {\n        vertical-align: middle;\n    }\n\n    .dataframe tbody tr th {\n        vertical-align: top;\n    }\n\n    .dataframe thead th {\n        text-align: right;\n    }\n</style>\n<table border=\"1\" class=\"dataframe\">\n  <thead>\n    <tr style=\"text-align: right;\">\n      <th></th>\n      <th>Landing _Outcome</th>\n      <th>count(*)</th>\n    </tr>\n  </thead>\n  <tbody>\n    <tr>\n      <th>0</th>\n      <td>Success</td>\n      <td>20</td>\n    </tr>\n    <tr>\n      <th>1</th>\n      <td>No attempt</td>\n      <td>10</td>\n    </tr>\n    <tr>\n      <th>2</th>\n      <td>Success (drone ship)</td>\n      <td>8</td>\n    </tr>\n    <tr>\n      <th>3</th>\n      <td>Success (ground pad)</td>\n      <td>6</td>\n    </tr>\n    <tr>\n      <th>4</th>\n      <td>Failure (drone ship)</td>\n      <td>4</td>\n    </tr>\n    <tr>\n      <th>5</th>\n      <td>Failure</td>\n      <td>3</td>\n    </tr>\n    <tr>\n      <th>6</th>\n      <td>Controlled (ocean)</td>\n      <td>3</td>\n    </tr>\n    <tr>\n      <th>7</th>\n      <td>Failure (parachute)</td>\n      <td>2</td>\n    </tr>\n    <tr>\n      <th>8</th>\n      <td>No attempt</td>\n      <td>1</td>\n    </tr>\n  </tbody>\n</table>\n</div>"
                    },
                    "metadata": {}
                }
            ]
        },
        {
            "metadata": {},
            "id": "e8d71a31-f2cc-49ba-99cd-1856c388b093",
            "cell_type": "markdown",
            "source": "### Reference Links\n\n* <a href =\"https://cf-courses-data.s3.us.cloud-object-storage.appdomain.cloud/IBMDeveloperSkillsNetwork-DB0201EN-SkillsNetwork/labs/Labs_Coursera_V5/labs/Lab%20-%20String%20Patterns%20-%20Sorting%20-%20Grouping/instructional-labs.md.html?origin=www.coursera.org\">Hands-on Lab : String Patterns, Sorting and Grouping</a>  \n\n*  <a  href=\"https://cf-courses-data.s3.us.cloud-object-storage.appdomain.cloud/IBMDeveloperSkillsNetwork-DB0201EN-SkillsNetwork/labs/Labs_Coursera_V5/labs/Lab%20-%20Built-in%20functions%20/Hands-on_Lab__Built-in_Functions.md.html?origin=www.coursera.org\">Hands-on Lab: Built-in functions</a>\n\n*  <a  href=\"https://cf-courses-data.s3.us.cloud-object-storage.appdomain.cloud/IBMDeveloperSkillsNetwork-DB0201EN-SkillsNetwork/labs/Labs_Coursera_V5/labs/Lab%20-%20Sub-queries%20and%20Nested%20SELECTs%20/instructional-labs.md.html?origin=www.coursera.org\">Hands-on Lab : Sub-queries and Nested SELECT Statements</a>\n\n*   <a href=\"https://cf-courses-data.s3.us.cloud-object-storage.appdomain.cloud/IBMDeveloperSkillsNetwork-DB0201EN-SkillsNetwork/labs/Module%205/DB0201EN-Week3-1-3-SQLmagic.ipynb\">Hands-on Tutorial: Accessing Databases with SQL magic</a>\n\n*  <a href= \"https://cf-courses-data.s3.us.cloud-object-storage.appdomain.cloud/IBMDeveloperSkillsNetwork-DB0201EN-SkillsNetwork/labs/Module%205/DB0201EN-Week3-1-4-Analyzing.ipynb\">Hands-on Lab: Analyzing a real World Data Set</a>\n\n\n"
        },
        {
            "metadata": {},
            "id": "fa1521fd-7c86-4eff-8f64-b51e5131fbf8",
            "cell_type": "markdown",
            "source": "## Author(s)\n\n<h4> Lakshmi Holla </h4>\n"
        },
        {
            "metadata": {},
            "id": "572ec773-b1e0-413e-9397-c67c5894fc74",
            "cell_type": "markdown",
            "source": "## Other Contributors\n\n<h4> Rav Ahuja </h4>\n"
        },
        {
            "metadata": {},
            "id": "7f4005d1-e800-4f7b-b002-9a578c750c15",
            "cell_type": "markdown",
            "source": "## Change log\n| Date | Version | Changed by | Change Description |\n|------|--------|--------|---------|\n| 2021-10-12 | 0.4 |Lakshmi Holla | Changed markdown|\n| 2021-08-24 | 0.3 |Lakshmi Holla | Added library update|\n| 2021-07-09 | 0.2 |Lakshmi Holla | Changes made in magic sql|\n| 2021-05-20 | 0.1 |Lakshmi Holla | Created Initial Version |\n"
        },
        {
            "metadata": {},
            "id": "6a2bdd2d-d066-4ad5-9313-5e53830cd9f8",
            "cell_type": "markdown",
            "source": "## <h3 align=\"center\"> \u00a9 IBM Corporation 2021. All rights reserved. <h3/>\n"
        }
    ],
    "metadata": {
        "kernelspec": {
            "name": "python3",
            "display_name": "Python 3.10",
            "language": "python"
        },
        "language_info": {
            "name": "python",
            "version": "3.10.9",
            "mimetype": "text/x-python",
            "codemirror_mode": {
                "name": "ipython",
                "version": 3
            },
            "pygments_lexer": "ipython3",
            "nbconvert_exporter": "python",
            "file_extension": ".py"
        }
    },
    "nbformat": 4,
    "nbformat_minor": 4
}